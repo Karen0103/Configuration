{
 "cells": [
  {
   "cell_type": "code",
   "execution_count": 3,
   "metadata": {},
   "outputs": [
    {
     "name": "stdout",
     "output_type": "stream",
     "text": [
      "1.12.0\n"
     ]
    }
   ],
   "source": [
    "import tensorflow as tf\n",
    "from tensorflow import keras\n",
    "\n",
    "import numpy as np\n",
    "\n",
    "print(tf.__version__)"
   ]
  },
  {
   "cell_type": "code",
   "execution_count": 5,
   "metadata": {},
   "outputs": [
    {
     "name": "stdout",
     "output_type": "stream",
     "text": [
      "Training entries: 25000, labels: 25000\n"
     ]
    }
   ],
   "source": [
    "imdb = keras.datasets.imdb\n",
    "\n",
    "(train_data, train_labels), (test_data, test_labels) = imdb.load_data(num_words=10000)\n",
    "print(\"Training entries: {}, labels: {}\".format(len(train_data), len(train_labels)))"
   ]
  },
  {
   "cell_type": "code",
   "execution_count": 8,
   "metadata": {},
   "outputs": [
    {
     "name": "stdout",
     "output_type": "stream",
     "text": [
      "[1, 194, 1153, 194, 8255, 78, 228, 5, 6, 1463, 4369, 5012, 134, 26, 4, 715, 8, 118, 1634, 14, 394, 20, 13, 119, 954, 189, 102, 5, 207, 110, 3103, 21, 14, 69, 188, 8, 30, 23, 7, 4, 249, 126, 93, 4, 114, 9, 2300, 1523, 5, 647, 4, 116, 9, 35, 8163, 4, 229, 9, 340, 1322, 4, 118, 9, 4, 130, 4901, 19, 4, 1002, 5, 89, 29, 952, 46, 37, 4, 455, 9, 45, 43, 38, 1543, 1905, 398, 4, 1649, 26, 6853, 5, 163, 11, 3215, 2, 4, 1153, 9, 194, 775, 7, 8255, 2, 349, 2637, 148, 605, 2, 8003, 15, 123, 125, 68, 2, 6853, 15, 349, 165, 4362, 98, 5, 4, 228, 9, 43, 2, 1157, 15, 299, 120, 5, 120, 174, 11, 220, 175, 136, 50, 9, 4373, 228, 8255, 5, 2, 656, 245, 2350, 5, 4, 9837, 131, 152, 491, 18, 2, 32, 7464, 1212, 14, 9, 6, 371, 78, 22, 625, 64, 1382, 9, 8, 168, 145, 23, 4, 1690, 15, 16, 4, 1355, 5, 28, 6, 52, 154, 462, 33, 89, 78, 285, 16, 145, 95]\n",
      "0\n"
     ]
    }
   ],
   "source": [
    "print(train_data[1])\n",
    "print(train_labels[1])"
   ]
  },
  {
   "cell_type": "code",
   "execution_count": 9,
   "metadata": {},
   "outputs": [
    {
     "data": {
      "text/plain": [
       "(218, 189)"
      ]
     },
     "execution_count": 9,
     "metadata": {},
     "output_type": "execute_result"
    }
   ],
   "source": [
    "len(train_data[0]), len(train_data[1])"
   ]
  },
  {
   "cell_type": "code",
   "execution_count": 31,
   "metadata": {},
   "outputs": [],
   "source": [
    "# A dictionary mapping words to an integer index\n",
    "word_index = imdb.get_word_index()\n",
    "\n",
    "# The first indices are reserved\n",
    "word_index = {k:(v+3) for k,v in word_index.items()} \n",
    "word_index[\"<PAD>\"] = 0\n",
    "word_index[\"<START>\"] = 1\n",
    "word_index[\"<UNK>\"] = 2  # unknown\n",
    "word_index[\"<UNUSED>\"] = 3\n",
    "\n",
    "reverse_word_index = dict([(value, key) for (key, value) in word_index.items()])\n",
    "\n",
    "def decode_review(text):\n",
    "    return ' '.join([reverse_word_index.get(i, '?') for i in text])"
   ]
  },
  {
   "cell_type": "code",
   "execution_count": 32,
   "metadata": {},
   "outputs": [],
   "source": [
    "train_data = keras.preprocessing.sequence.pad_sequences(train_data,\n",
    "                                                        value=word_index[\"<PAD>\"],\n",
    "                                                        padding='post',\n",
    "                                                        maxlen=256)\n",
    "\n",
    "test_data = keras.preprocessing.sequence.pad_sequences(test_data,\n",
    "                                                       value=word_index[\"<PAD>\"],\n",
    "                                                       padding='post',\n",
    "                                                       maxlen=256)"
   ]
  },
  {
   "cell_type": "code",
   "execution_count": 33,
   "metadata": {},
   "outputs": [
    {
     "data": {
      "text/plain": [
       "(256, 256)"
      ]
     },
     "execution_count": 33,
     "metadata": {},
     "output_type": "execute_result"
    }
   ],
   "source": [
    "len(train_data[0]), len(train_data[1])"
   ]
  },
  {
   "cell_type": "code",
   "execution_count": 34,
   "metadata": {},
   "outputs": [
    {
     "name": "stdout",
     "output_type": "stream",
     "text": [
      "_________________________________________________________________\n",
      "Layer (type)                 Output Shape              Param #   \n",
      "=================================================================\n",
      "embedding_2 (Embedding)      (None, None, 16)          160000    \n",
      "_________________________________________________________________\n",
      "global_average_pooling1d_1 ( (None, 16)                0         \n",
      "_________________________________________________________________\n",
      "dense_2 (Dense)              (None, 16)                272       \n",
      "_________________________________________________________________\n",
      "dense_3 (Dense)              (None, 1)                 17        \n",
      "=================================================================\n",
      "Total params: 160,289\n",
      "Trainable params: 160,289\n",
      "Non-trainable params: 0\n",
      "_________________________________________________________________\n"
     ]
    }
   ],
   "source": [
    "# input shape is the vocabulary count used for the movie reviews (10,000 words)\n",
    "vocab_size = 10000\n",
    "\n",
    "model = keras.Sequential()\n",
    "model.add(keras.layers.Embedding(vocab_size, 16))\n",
    "model.add(keras.layers.GlobalAveragePooling1D())\n",
    "model.add(keras.layers.Dense(16, activation=tf.nn.relu))\n",
    "model.add(keras.layers.Dense(1, activation=tf.nn.sigmoid))\n",
    "\n",
    "model.summary()"
   ]
  },
  {
   "cell_type": "code",
   "execution_count": 35,
   "metadata": {},
   "outputs": [
    {
     "name": "stdout",
     "output_type": "stream",
     "text": [
      "<tensorflow.python.keras.layers.embeddings.Embedding object at 0x7f601ede2ac8>\n"
     ]
    }
   ],
   "source": [
    "print(keras.layers.Embedding(vocab_size, 16))"
   ]
  },
  {
   "cell_type": "code",
   "execution_count": 36,
   "metadata": {},
   "outputs": [],
   "source": [
    "model.compile(optimizer=tf.train.AdamOptimizer(),\n",
    "              loss='binary_crossentropy',\n",
    "              metrics=['accuracy'])"
   ]
  },
  {
   "cell_type": "code",
   "execution_count": 39,
   "metadata": {},
   "outputs": [],
   "source": [
    "x_val = train_data[:10000]\n",
    "partial_x_train = train_data[10000:]\n",
    "\n",
    "y_val = train_labels[:10000]\n",
    "partial_y_train = train_labels[10000:]"
   ]
  },
  {
   "cell_type": "code",
   "execution_count": 61,
   "metadata": {},
   "outputs": [
    {
     "name": "stdout",
     "output_type": "stream",
     "text": [
      "Train on 15000 samples, validate on 10000 samples\n",
      "Epoch 1/40\n",
      "15000/15000 [==============================] - 0s 30us/step - loss: 3.5317e-04 - acc: 1.0000 - val_loss: 0.0102 - val_acc: 0.9967\n",
      "Epoch 2/40\n",
      "15000/15000 [==============================] - 0s 28us/step - loss: 3.5446e-04 - acc: 1.0000 - val_loss: 0.0102 - val_acc: 0.9965\n",
      "Epoch 3/40\n",
      "15000/15000 [==============================] - 0s 30us/step - loss: 3.3923e-04 - acc: 1.0000 - val_loss: 0.0101 - val_acc: 0.9959\n",
      "Epoch 4/40\n",
      "15000/15000 [==============================] - 0s 29us/step - loss: 3.2855e-04 - acc: 1.0000 - val_loss: 0.0104 - val_acc: 0.9961\n",
      "Epoch 5/40\n",
      "15000/15000 [==============================] - 0s 29us/step - loss: 3.2578e-04 - acc: 1.0000 - val_loss: 0.0107 - val_acc: 0.9958\n",
      "Epoch 6/40\n",
      "15000/15000 [==============================] - 0s 28us/step - loss: 3.0803e-04 - acc: 1.0000 - val_loss: 0.0107 - val_acc: 0.9958\n",
      "Epoch 7/40\n",
      "15000/15000 [==============================] - 0s 29us/step - loss: 3.0687e-04 - acc: 1.0000 - val_loss: 0.0111 - val_acc: 0.9957\n",
      "Epoch 8/40\n",
      "15000/15000 [==============================] - 0s 30us/step - loss: 3.0087e-04 - acc: 1.0000 - val_loss: 0.0113 - val_acc: 0.9955\n",
      "Epoch 9/40\n",
      "15000/15000 [==============================] - 0s 29us/step - loss: 2.8984e-04 - acc: 1.0000 - val_loss: 0.0117 - val_acc: 0.9955\n",
      "Epoch 10/40\n",
      "15000/15000 [==============================] - 0s 28us/step - loss: 2.8414e-04 - acc: 1.0000 - val_loss: 0.0118 - val_acc: 0.9954\n",
      "Epoch 11/40\n",
      "15000/15000 [==============================] - 0s 30us/step - loss: 2.8156e-04 - acc: 1.0000 - val_loss: 0.0122 - val_acc: 0.9954\n",
      "Epoch 12/40\n",
      "15000/15000 [==============================] - 0s 29us/step - loss: 2.6819e-04 - acc: 1.0000 - val_loss: 0.0125 - val_acc: 0.9954\n",
      "Epoch 13/40\n",
      "15000/15000 [==============================] - 0s 30us/step - loss: 2.5628e-04 - acc: 1.0000 - val_loss: 0.0128 - val_acc: 0.9952\n",
      "Epoch 14/40\n",
      "15000/15000 [==============================] - 0s 28us/step - loss: 2.6128e-04 - acc: 1.0000 - val_loss: 0.0131 - val_acc: 0.9950\n",
      "Epoch 15/40\n",
      "15000/15000 [==============================] - 0s 29us/step - loss: 2.4814e-04 - acc: 1.0000 - val_loss: 0.0133 - val_acc: 0.9950\n",
      "Epoch 16/40\n",
      "15000/15000 [==============================] - 0s 29us/step - loss: 2.4344e-04 - acc: 1.0000 - val_loss: 0.0138 - val_acc: 0.9947\n",
      "Epoch 17/40\n",
      "15000/15000 [==============================] - 0s 30us/step - loss: 2.3552e-04 - acc: 1.0000 - val_loss: 0.0140 - val_acc: 0.9944\n",
      "Epoch 18/40\n",
      "15000/15000 [==============================] - 0s 29us/step - loss: 2.3273e-04 - acc: 1.0000 - val_loss: 0.0146 - val_acc: 0.9945\n",
      "Epoch 19/40\n",
      "15000/15000 [==============================] - 0s 28us/step - loss: 2.2590e-04 - acc: 1.0000 - val_loss: 0.0147 - val_acc: 0.9943\n",
      "Epoch 20/40\n",
      "15000/15000 [==============================] - 0s 28us/step - loss: 2.2242e-04 - acc: 1.0000 - val_loss: 0.0150 - val_acc: 0.9944\n",
      "Epoch 21/40\n",
      "15000/15000 [==============================] - 0s 27us/step - loss: 2.2284e-04 - acc: 1.0000 - val_loss: 0.0154 - val_acc: 0.9942\n",
      "Epoch 22/40\n",
      "15000/15000 [==============================] - 0s 29us/step - loss: 2.1091e-04 - acc: 1.0000 - val_loss: 0.0157 - val_acc: 0.9941\n",
      "Epoch 23/40\n",
      "15000/15000 [==============================] - 0s 29us/step - loss: 2.1361e-04 - acc: 1.0000 - val_loss: 0.0161 - val_acc: 0.9941\n",
      "Epoch 24/40\n",
      "15000/15000 [==============================] - 0s 27us/step - loss: 1.9777e-04 - acc: 1.0000 - val_loss: 0.0162 - val_acc: 0.9939\n",
      "Epoch 25/40\n",
      "15000/15000 [==============================] - 0s 29us/step - loss: 1.9097e-04 - acc: 1.0000 - val_loss: 0.0172 - val_acc: 0.9936\n",
      "Epoch 26/40\n",
      "15000/15000 [==============================] - 0s 30us/step - loss: 2.1456e-04 - acc: 1.0000 - val_loss: 0.0177 - val_acc: 0.9934\n",
      "Epoch 27/40\n",
      "15000/15000 [==============================] - 0s 30us/step - loss: 1.9490e-04 - acc: 1.0000 - val_loss: 0.0175 - val_acc: 0.9937\n",
      "Epoch 28/40\n",
      "15000/15000 [==============================] - 0s 29us/step - loss: 1.8662e-04 - acc: 1.0000 - val_loss: 0.0175 - val_acc: 0.9939\n",
      "Epoch 29/40\n",
      "15000/15000 [==============================] - 0s 29us/step - loss: 1.8396e-04 - acc: 1.0000 - val_loss: 0.0180 - val_acc: 0.9936\n",
      "Epoch 30/40\n",
      "15000/15000 [==============================] - 0s 29us/step - loss: 1.7349e-04 - acc: 1.0000 - val_loss: 0.0184 - val_acc: 0.9936\n",
      "Epoch 31/40\n",
      "15000/15000 [==============================] - 0s 29us/step - loss: 1.6613e-04 - acc: 1.0000 - val_loss: 0.0186 - val_acc: 0.9934\n",
      "Epoch 32/40\n",
      "15000/15000 [==============================] - 0s 29us/step - loss: 1.7006e-04 - acc: 1.0000 - val_loss: 0.0189 - val_acc: 0.9932\n",
      "Epoch 33/40\n",
      "15000/15000 [==============================] - 0s 29us/step - loss: 1.6361e-04 - acc: 1.0000 - val_loss: 0.0192 - val_acc: 0.9931\n",
      "Epoch 34/40\n",
      "15000/15000 [==============================] - 0s 30us/step - loss: 1.5935e-04 - acc: 1.0000 - val_loss: 0.0196 - val_acc: 0.9928\n",
      "Epoch 35/40\n",
      "15000/15000 [==============================] - 0s 30us/step - loss: 1.5932e-04 - acc: 1.0000 - val_loss: 0.0199 - val_acc: 0.9931\n",
      "Epoch 36/40\n",
      "15000/15000 [==============================] - 0s 30us/step - loss: 1.5412e-04 - acc: 1.0000 - val_loss: 0.0204 - val_acc: 0.9926\n",
      "Epoch 37/40\n",
      "15000/15000 [==============================] - 0s 31us/step - loss: 1.4646e-04 - acc: 1.0000 - val_loss: 0.0207 - val_acc: 0.9924\n",
      "Epoch 38/40\n",
      "15000/15000 [==============================] - 0s 29us/step - loss: 1.4519e-04 - acc: 1.0000 - val_loss: 0.0210 - val_acc: 0.9924\n",
      "Epoch 39/40\n",
      "15000/15000 [==============================] - 0s 30us/step - loss: 1.3960e-04 - acc: 1.0000 - val_loss: 0.0218 - val_acc: 0.9924\n",
      "Epoch 40/40\n",
      "15000/15000 [==============================] - 0s 29us/step - loss: 1.5642e-04 - acc: 1.0000 - val_loss: 0.0219 - val_acc: 0.9924\n",
      "25000/25000 [==============================] - 2s 75us/step\n",
      "[1.461017335836012, 0.83608]\n"
     ]
    }
   ],
   "source": [
    "history = model.fit(partial_x_train,\n",
    "                    partial_y_train,\n",
    "                    epochs=40,\n",
    "                    batch_size=512,\n",
    "                    validation_data=(x_val, y_val),\n",
    "                    verbose=1)\n",
    "\n",
    "results = model.evaluate(test_data, test_labels)\n",
    "\n",
    "print(results)"
   ]
  },
  {
   "cell_type": "code",
   "execution_count": 62,
   "metadata": {},
   "outputs": [
    {
     "data": {
      "text/plain": [
       "dict_keys(['val_loss', 'val_acc', 'loss', 'acc'])"
      ]
     },
     "execution_count": 62,
     "metadata": {},
     "output_type": "execute_result"
    }
   ],
   "source": [
    "history_dict = history.history\n",
    "history_dict.keys()"
   ]
  },
  {
   "cell_type": "code",
   "execution_count": 63,
   "metadata": {},
   "outputs": [
    {
     "data": {
      "image/png": "[encoded data removed]",
      "text/plain": [
       "<Figure size 432x288 with 1 Axes>"
      ]
     },
     "metadata": {
      "needs_background": "light"
     },
     "output_type": "display_data"
    }
   ],
   "source": [
    "import matplotlib.pyplot as plt\n",
    "\n",
    "acc = history.history['acc']\n",
    "val_acc = history.history['val_acc']\n",
    "loss = history.history['loss']\n",
    "val_loss = history.history['val_loss']\n",
    "\n",
    "epochs = range(1, len(acc) + 1)\n",
    "\n",
    "# \"bo\" is for \"blue dot\"\n",
    "plt.plot(epochs, loss, 'bo', label='Training loss')\n",
    "# b is for \"solid blue line\"\n",
    "plt.plot(epochs, val_loss, 'b', label='Validation loss')\n",
    "plt.title('Training and validation loss')\n",
    "plt.xlabel('Epochs')\n",
    "plt.ylabel('Loss')\n",
    "plt.legend()\n",
    "\n",
    "plt.show()"
   ]
  },
  {
   "cell_type": "code",
   "execution_count": 64,
   "metadata": {},
   "outputs": [
    {
     "data": {
      "image/png": "[encoded data removed]",
      "text/plain": [
       "<Figure size 432x288 with 1 Axes>"
      ]
     },
     "metadata": {
      "needs_background": "light"
     },
     "output_type": "display_data"
    }
   ],
   "source": [
    "plt.clf()   # clear figure\n",
    "acc_values = history_dict['acc']\n",
    "val_acc_values = history_dict['val_acc']\n",
    "\n",
    "plt.plot(epochs, acc, 'bo', label='Training acc')\n",
    "plt.plot(epochs, val_acc, 'b', label='Validation acc')\n",
    "plt.title('Training and validation accuracy')\n",
    "plt.xlabel('Epochs')\n",
    "plt.ylabel('Accuracy')\n",
    "plt.legend()\n",
    "\n",
    "plt.show()"
   ]
  },
  {
   "cell_type": "code",
   "execution_count": null,
   "metadata": {},
   "outputs": [],
   "source": []
  }
 ],
 "metadata": {
  "kernelspec": {
   "display_name": "Python 3",
   "language": "python",
   "name": "python3"
  },
  "language_info": {
   "codemirror_mode": {
    "name": "ipython",
    "version": 3
   },
   "file_extension": ".py",
   "mimetype": "text/x-python",
   "name": "python",
   "nbconvert_exporter": "python",
   "pygments_lexer": "ipython3",
   "version": "3.6.6"
  }
 },
 "nbformat": 4,
 "nbformat_minor": 2
}
